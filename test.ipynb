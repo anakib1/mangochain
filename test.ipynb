{
 "cells": [
  {
   "cell_type": "code",
   "execution_count": 30,
   "id": "initial_id",
   "metadata": {
    "collapsed": true,
    "ExecuteTime": {
     "end_time": "2024-05-15T20:50:42.416489500Z",
     "start_time": "2024-05-15T20:50:42.388965900Z"
    }
   },
   "outputs": [],
   "source": [
    "from cryptography.hazmat.primitives.asymmetric import rsa\n"
   ]
  },
  {
   "cell_type": "code",
   "execution_count": null,
   "outputs": [],
   "source": [],
   "metadata": {
    "collapsed": false
   },
   "id": "367b3590e3392469"
  },
  {
   "cell_type": "code",
   "execution_count": 24,
   "outputs": [],
   "source": [
    "import json\n",
    "from uuid import UUID\n",
    "from time import time as current_milli_time\n",
    "from datetime import datetime\n",
    "import hashlib\n",
    "\n",
    "class Transaction:\n",
    "    def __init__(self, from_id, to_id, amount, tr_id=None):\n",
    "        self.from_id = from_id\n",
    "        self.to_id = to_id\n",
    "        self.tr_id = tr_id or str(UUID(int=0))  # Convert uuid4 to string if None\n",
    "        self.amount = amount\n",
    "        self.signature = None\n",
    "    \n",
    "    def __repr__(self):\n",
    "        return json.dumps(\n",
    "            {\"transaction_id\": str(self.tr_id), \"from_id\": self.from_id, \"to_id\": self.to_id, \"amount\": self.amount})\n",
    "\n",
    "    def __hash__(self):\n",
    "        return hashlib.sha256(str(self.__repr__()).encode()).hexdigest()\n",
    "\n",
    "class Block:\n",
    "    def __init__(self):\n",
    "        self.timestamp = current_milli_time()\n",
    "        self.transactions = []\n",
    "        self.previous_hash = None\n",
    "        self.balances = {}\n",
    "        self.nonce = 0\n",
    "\n",
    "    def to_json(self):\n",
    "        return {\n",
    "            \"timestamp\": self.timestamp,\n",
    "            \"transactions\": [vars(tr) for tr in self.transactions],  # Serialize Transaction objects\n",
    "            \"previous_hash\": self.previous_hash,\n",
    "            \"balances\": self.balances,\n",
    "            \"nonce\": self.nonce\n",
    "        }\n",
    "    \n",
    "    @classmethod\n",
    "    def from_json(cls, json_data):\n",
    "        block = cls()\n",
    "        block.timestamp = json_data[\"timestamp\"]\n",
    "        block.previous_hash = json_data[\"previous_hash\"]\n",
    "        block.balances = json_data[\"balances\"]\n",
    "        block.nonce = json_data[\"nonce\"]\n",
    "        # Deserialize Transaction objects\n",
    "        for tr_data in json_data[\"transactions\"]:\n",
    "            tr = Transaction(tr_data[\"from_id\"], tr_data[\"to_id\"], tr_data[\"amount\"], tr_data.get(\"tr_id\"))\n",
    "            block.transactions.append(tr)\n",
    "        return block\n",
    "\n",
    "    def __repr__(self):\n",
    "        return json.dumps(self.to_json())\n",
    "\n",
    "    def __hash__(self):\n",
    "        return hashlib.sha256(str(self.__repr__()).encode()).hexdigest()\n"
   ],
   "metadata": {
    "collapsed": false,
    "ExecuteTime": {
     "end_time": "2024-05-15T20:15:22.104244200Z",
     "start_time": "2024-05-15T20:15:22.081718900Z"
    }
   },
   "id": "6fd5559ee7682f1e"
  },
  {
   "cell_type": "code",
   "execution_count": 27,
   "outputs": [
    {
     "data": {
      "text/plain": "'{\"timestamp\": 1715804402.023399, \"transactions\": [{\"from_id\": \"alice\", \"to_id\": \"bob\", \"tr_id\": \"00000000-0000-0000-0000-000000000000\", \"amount\": 1, \"signature\": null}], \"previous_hash\": null, \"balances\": {}, \"nonce\": 0}'"
     },
     "execution_count": 27,
     "metadata": {},
     "output_type": "execute_result"
    }
   ],
   "source": [
    "block = Block()\n",
    "block.transactions.append(Transaction('alice', 'bob', 1))\n",
    "block.__repr__()"
   ],
   "metadata": {
    "collapsed": false,
    "ExecuteTime": {
     "end_time": "2024-05-15T20:20:02.044543200Z",
     "start_time": "2024-05-15T20:20:02.025400900Z"
    }
   },
   "id": "bd285af6fd3355dd"
  },
  {
   "cell_type": "code",
   "execution_count": 13,
   "outputs": [
    {
     "data": {
      "text/plain": "{'transaction_id': '054f11a9-bbb3-4770-888e-b4d84862d117',\n 'from_id': 'alice',\n 'to_id': 'bob',\n 'amount': 1}"
     },
     "execution_count": 13,
     "metadata": {},
     "output_type": "execute_result"
    }
   ],
   "source": [
    "json.loads(json.loads(block.__repr__())['transactions'][0])"
   ],
   "metadata": {
    "collapsed": false,
    "ExecuteTime": {
     "end_time": "2024-05-15T19:49:33.348528700Z",
     "start_time": "2024-05-15T19:49:33.327190900Z"
    }
   },
   "id": "32c903847d6e2aae"
  },
  {
   "cell_type": "code",
   "execution_count": 29,
   "outputs": [
    {
     "data": {
      "text/plain": "{\"timestamp\": 1715804402.023399, \"transactions\": [{\"from_id\": \"alice\", \"to_id\": \"bob\", \"tr_id\": \"00000000-0000-0000-0000-000000000000\", \"amount\": 1, \"signature\": null}], \"previous_hash\": null, \"balances\": {}, \"nonce\": 0}"
     },
     "execution_count": 29,
     "metadata": {},
     "output_type": "execute_result"
    }
   ],
   "source": [
    "Block.from_json(json.loads(\"{\\\"timestamp\\\": 1715804402.023399, \\\"transactions\\\": [{\\\"from_id\\\": \\\"alice\\\", \\\"to_id\\\": \\\"bob\\\", \\\"tr_id\\\": \\\"00000000-0000-0000-0000-000000000000\\\", \\\"amount\\\": 1, \\\"signature\\\": null}], \\\"previous_hash\\\": null, \\\"balances\\\": {}, \\\"nonce\\\": 0}\"))"
   ],
   "metadata": {
    "collapsed": false,
    "ExecuteTime": {
     "end_time": "2024-05-15T20:23:08.623236400Z",
     "start_time": "2024-05-15T20:23:08.607712400Z"
    }
   },
   "id": "ef655a1a5de55f85"
  },
  {
   "cell_type": "code",
   "execution_count": null,
   "outputs": [],
   "source": [],
   "metadata": {
    "collapsed": false
   },
   "id": "63bc2b2353c2a9f3"
  }
 ],
 "metadata": {
  "kernelspec": {
   "display_name": "Python 3",
   "language": "python",
   "name": "python3"
  },
  "language_info": {
   "codemirror_mode": {
    "name": "ipython",
    "version": 2
   },
   "file_extension": ".py",
   "mimetype": "text/x-python",
   "name": "python",
   "nbconvert_exporter": "python",
   "pygments_lexer": "ipython2",
   "version": "2.7.6"
  }
 },
 "nbformat": 4,
 "nbformat_minor": 5
}
